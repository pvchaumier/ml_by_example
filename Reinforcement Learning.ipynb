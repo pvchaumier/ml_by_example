{
 "cells": [
  {
   "cell_type": "markdown",
   "metadata": {},
   "source": [
    "# Reinforcement Learning\n",
    "\n",
    "This notebook will not provide any implementation. It serves more as a revision card for reinforcement learning. Complete courses and ressources are available on the web, the ones I found particulary helpful were:\n",
    "- David Silver's [course](https://www.youtube.com/watch?v=2pWv7GOvuf0&list=PL5X3mDkKaJrL42i_jhE4N-p6E2Ol62Ofa)\n",
    "- the [slides](http://researchers.lille.inria.fr/~lazaric/Webpage/Teaching.html) from Alessandro Lazaric's course at the MVA master\n",
    "- the two [videos](https://www.youtube.com/watch?v=dV80NAlEins&list=PLE6Wd9FR--EfW8dtjAuPoTuPcqmOV53Fu) by Nando De Freitas on reinforcement learning\n",
    "\n",
    "## Common definition\n",
    "\n",
    "### Online/offline learning\n",
    "\n",
    "### Model free\n",
    "\n",
    "## [Q-Learning]()\n",
    "\n",
    "\n",
    "\n",
    "## [SARSA]()"
   ]
  }
 ],
 "metadata": {
  "kernelspec": {
   "display_name": "Python 3",
   "language": "python",
   "name": "python3"
  },
  "language_info": {
   "codemirror_mode": {
    "name": "ipython",
    "version": 3
   },
   "file_extension": ".py",
   "mimetype": "text/x-python",
   "name": "python",
   "nbconvert_exporter": "python",
   "pygments_lexer": "ipython3",
   "version": "3.4.2"
  }
 },
 "nbformat": 4,
 "nbformat_minor": 0
}
