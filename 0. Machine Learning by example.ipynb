{
 "cells": [
  {
   "cell_type": "markdown",
   "metadata": {},
   "source": [
    "# Machine Learning by example\n",
    "\n",
    "## Motivation\n",
    "\n",
    "During my Big Data course taught by Karim Pichara, I programmed a few models. Now that the course is over, I am taking some time to clean the code and make it available to everyone. My learning methodology is to first try to understand the core mathematical model and then to implement it. So, as I keep learning, I will try to complete this notebook and add new models.\n",
    "\n",
    "My main goal is not to provide a stand alone course but simple implementations of famous models with visual elements to help understand the concepts. I also tried to add some tips to facilitate the understanding of the maths behind. This means that a basic idea of how the models work is needed. I will try to add links to the ressources that helped me during this first step as much as possible.\n",
    "\n",
    "These are very simple implementations not meant to be used in a serious situation (was not tested for dimensions other than the ones of the datasets, was not unittested ...). If you are looking for a robust library, go check [scikit learn](http://scikit-learn.org/stable/) for instance.\n",
    "\n",
    "If you see any bug/error or would like to contribute/improve. Please send a pull request. If you have any question or would like to comment, please use the github issue system.\n",
    "\n",
    "\n",
    "## Organization of the code\n",
    "\n",
    "- fct.py: gathers general functions that are needed in some or all of the notebooks (such as normalizing functions).\n",
    "- datasets folder: contains all the used dataset. Their names is pretty explicit for what they are used for.\n",
    "- requirements.txt: to be installed. Please note that the notebook was only tested with Python v3.4.2 and the version of the librairies specified in the requirements file.\n",
    "\n",
    "\n",
    "## Models\n",
    "\n",
    "### Dimensionality reduction\n",
    "- **[Principal Component Analysis (PCA)](1. PCA.ipynb)**\n",
    "\n",
    "### Supervised Learning\n",
    "- **[Ridge Regressions (linear, polynomial and gaussian kernels)](2. Regression.ipynb)**\n",
    "\n",
    "### Unsupervised Learning\n",
    "- **[K-Means](3. KMeans.ipynb)**\n",
    "- **[Gaussian Mixtures](4. Gaussian Mixture)**\n",
    "\n",
    "### Reinforcement Learning\n",
    "- **[Overall Presentation](5. Reinforcement Learning)**\n",
    "- **[Q-Learning]()**\n",
    "- **[SARSA]()**\n",
    "\n",
    "\n",
    "## Todo\n",
    "\n",
    "- PCA:\n",
    "    - implement the projection on the 2 axis of higher variance\n",
    "- add Q-Learning\n",
    "- add SARSA\n",
    "- add Gaussian Process\n",
    "\n",
    "\n",
    "## LICENSE\n",
    "\n",
    "FreeBSD, see the LICENSE.txt file for more details."
   ]
  }
 ],
 "metadata": {
  "kernelspec": {
   "display_name": "Python 3",
   "language": "python",
   "name": "python3"
  },
  "language_info": {
   "codemirror_mode": {
    "name": "ipython",
    "version": 3
   },
   "file_extension": ".py",
   "mimetype": "text/x-python",
   "name": "python",
   "nbconvert_exporter": "python",
   "pygments_lexer": "ipython3",
   "version": "3.4.2"
  }
 },
 "nbformat": 4,
 "nbformat_minor": 0
}
