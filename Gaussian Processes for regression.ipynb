{
 "cells": [
  {
   "cell_type": "code",
   "execution_count": null,
   "metadata": {
    "collapsed": true
   },
   "outputs": [],
   "source": [
    "class GPR(object):\n",
    "    \"\"\"Gaussian Process for regression class.\n",
    "    \n",
    "    Attributes:\n",
    "    - kernel: function \n",
    "        The similarity function. Must take two vectors and \n",
    "        return a float\n",
    "    \n",
    "    Warning:\n",
    "        The prediction only works with one vector at a time.\n",
    "        It does not work like in the scikit-learn library \n",
    "        in which both a vector or a matrix can be given.\n",
    "        \n",
    "    \"\"\"\n",
    "    \n",
    "    def __init__(self, kernel):\n",
    "        self.kernel = kernel\n",
    "        self.data = []\n",
    "        self.target = []\n",
    "        self.Cn = []\n",
    "        \n",
    "    def fit(self, X, y):\n",
    "        \"\"\"Build the specific model.\"\"\"\n",
    "        \n",
    "        self.data = X\n",
    "        self.target = y\n",
    "        N = X.shape[0]\n",
    "        Cn = np.zeros((N,N))\n",
    "        for i in range(N):\n",
    "            for j in range(N):\n",
    "                Cn[i][j] = self.kernel(X[i,:], X[j,:])\n",
    "        self.Cn = Cn\n",
    "        \n",
    "\n",
    "    def predict(self, X):\n",
    "        \"\"\"Predict one vector only.\"\"\"\n",
    "        \n",
    "        N = self.data.shape[0]\n",
    "        k = np.zeros((N,1))\n",
    "        for i in range(N):\n",
    "            k[i] = self.kernel(X, self.data[i,:])\n",
    "        \n",
    "        return np.dot(k.T, np.dot(np.linalg.inv(self.Cn), self.target))"
   ]
  },
  {
   "cell_type": "code",
   "execution_count": null,
   "metadata": {
    "collapsed": true
   },
   "outputs": [],
   "source": [
    "def kernel1(a, b):\n",
    "    \"\"\" GP squared exponential kernel \"\"\"\n",
    "    \n",
    "    kernelParameter = 1.5\n",
    "    sqdist = np.sum(a ** 2) + np.sum(b ** 2) - 2 * np.dot(a, b.T)\n",
    "    return np.exp(-.5 * (1 / kernelParameter) * sqdist)\n",
    "\n",
    "def kernel2(a, b):\n",
    "    \"\"\" GP squared exponential kernel \"\"\"\n",
    "    \n",
    "    kernelParameter = 0.5\n",
    "    sqdist = np.sum(a ** 2) + np.sum(b ** 2) - 2 * np.dot(a, b.T)\n",
    "    return np.exp(-.5 * (1 / kernelParameter) * sqdist)"
   ]
  }
 ],
 "metadata": {
  "kernelspec": {
   "display_name": "Python 3",
   "language": "python",
   "name": "python3"
  },
  "language_info": {
   "codemirror_mode": {
    "name": "ipython",
    "version": 3
   },
   "file_extension": ".py",
   "mimetype": "text/x-python",
   "name": "python",
   "nbconvert_exporter": "python",
   "pygments_lexer": "ipython3",
   "version": "3.4.2"
  }
 },
 "nbformat": 4,
 "nbformat_minor": 0
}
