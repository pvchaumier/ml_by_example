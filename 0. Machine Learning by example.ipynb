{
 "cells": [
  {
   "cell_type": "markdown",
   "metadata": {},
   "source": [
    "# Machine Learning by example\n",
    "\n",
    "## Motivation\n",
    "\n",
    "During my Big Data course taught by Karim Pichara, I programmed a few models. Now that the course is over, I am taking some time to clean the code and make it available to everyone.\n",
    "\n",
    "My main goal is to provide a simple implementation of famous models with visual elements to help understand the concepts. I also tried to add some tips to facilitate the understanding of the maths behind.\n",
    "\n",
    "This is a very simple implementation not meant to be use in a serious situation (was not tested for dimensions other than the ones of the datasets, was not unittested ...). If you are looking for a more robust one, go check [scikit learn](http://scikit-learn.org/stable/).\n",
    "\n",
    "If you see any bug/error or would like to contribute/improve. Please send a pull request. If you have any question or would like to comment, please use the github issue system.\n",
    "\n",
    "\n",
    "## Organization of the code\n",
    "\n",
    "- fct.py: gathers general functions that are needed in some or all of the notebooks (such as normalizing functions).\n",
    "- datasets folder: contains all the used dataset. Their names is pretty explicit for what they are used for.\n",
    "- nb. name: notebooks\n",
    "- requirements.txt: to be installed. Please note that the notebook was only tested with Python v3.4.2 and the version of the librairies specified in the requirements file.\n",
    "\n",
    "\n",
    "## Models\n",
    "\n",
    "- **[Principal Component Analysis (PCA)](1. PCA.ipynb)**\n",
    "- **[Ridge Regressions (linear, polynomial and gaussian kernels)](2. Regression.ipynb)**\n",
    "- **[K-Means](3. KMeans.ipynb)**\n",
    "\n",
    "\n",
    "## Todo\n",
    "\n",
    "- PCA:\n",
    "    - implement the projection on the 2 axis of higher variance\n",
    "- datasets:\n",
    "    - randomly generate them in order to not reuse the one given by Karim\n",
    "\n",
    "\n",
    "## LICENSE\n",
    "\n",
    "To be added."
   ]
  }
 ],
 "metadata": {
  "kernelspec": {
   "display_name": "Python 3",
   "language": "python",
   "name": "python3"
  },
  "language_info": {
   "codemirror_mode": {
    "name": "ipython",
    "version": 3
   },
   "file_extension": ".py",
   "mimetype": "text/x-python",
   "name": "python",
   "nbconvert_exporter": "python",
   "pygments_lexer": "ipython3",
   "version": "3.4.2"
  }
 },
 "nbformat": 4,
 "nbformat_minor": 0
}
