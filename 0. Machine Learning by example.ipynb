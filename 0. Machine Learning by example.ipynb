{
 "cells": [
  {
   "cell_type": "markdown",
   "metadata": {},
   "source": [
    "# Machine Learning by example\n",
    "\n",
    "## Motivation\n",
    "\n",
    "This project was born when my Big Data course taught by Karim Pichara at the Pontificia Universidad Catolica in Chile ended. During the course, we had programmed a few models and I thought that it would be interesting to take some time to clean the code and make it available to everyone. Indeed, I found that implementing/reading the code of the models we studied was very helpful to develop a better understanding of the laters.\n",
    "\n",
    "My main goal is not to provide a stand alone course but simple implementations of famous models with visual elements to help understand the concepts. I also tried to add some tips to facilitate the understanding of the maths behind. This means that a basic idea of how the models work might be required. I will try to add links to the ressources that helped me during this first step as much as possible.\n",
    "\n",
    "Please be aware that these are very simple implementations not meant to be used in production (was not tested for dimensions other than the ones of the datasets, was not unittested ...). If you are looking for a robust library, go check [scikit learn](http://scikit-learn.org/stable/) for instance.\n",
    "\n",
    "If you see any bug/error or would like to contribute/improve. Please send a pull request. If you have any question or would like to comment, please use the github issue system.\n",
    "\n",
    "\n",
    "## Organization of the code\n",
    "\n",
    "- fct.py: gathers general functions that are needed in some or all of the notebooks (such as normalizing functions).\n",
    "- datasets folder: contains all the used dataset. The name are pretty explicit.\n",
    "- requirements.txt: to be installed. Please note that the notebook was only tested with Python v3.4.2 and the version of the librairies specified in the requirements file.\n",
    "\n",
    "\n",
    "## Models\n",
    "\n",
    "### Dimensionality reduction\n",
    "- **[Principal Component Analysis (PCA)](1. PCA.ipynb)**\n",
    "\n",
    "### Supervised Learning\n",
    "- **[Ridge Regressions (linear, polynomial and gaussian kernels)](2. Regression.ipynb)**\n",
    "<!-- - **[Gaussian Processes for regression]()** -->\n",
    "\n",
    "### Unsupervised Learning\n",
    "- **[K-Means](4. KMeans.ipynb)**\n",
    "- **[Gaussian Mixtures](5. Gaussian Mixture)**\n",
    "\n",
    "### Reinforcement Learning\n",
    "- **[Revision Card](6. Reinforcement Learning)**\n",
    "<!-- - **[Q-Learning]()** -->\n",
    "<!-- - **[SARSA]()** -->\n",
    "\n",
    "\n",
    "## Todo\n",
    "\n",
    "- add Q-Learning\n",
    "- add SARSA\n",
    "- add Gaussian Process\n",
    "\n",
    "\n",
    "## LICENSE\n",
    "\n",
    "FreeBSD, cf to the LICENSE.txt file."
   ]
  }
 ],
 "metadata": {
  "kernelspec": {
   "display_name": "Python 3",
   "language": "python",
   "name": "python3"
  },
  "language_info": {
   "codemirror_mode": {
    "name": "ipython",
    "version": 3
   },
   "file_extension": ".py",
   "mimetype": "text/x-python",
   "name": "python",
   "nbconvert_exporter": "python",
   "pygments_lexer": "ipython3",
   "version": "3.4.2"
  }
 },
 "nbformat": 4,
 "nbformat_minor": 0
}
